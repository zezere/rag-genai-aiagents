{
 "cells": [
  {
   "cell_type": "markdown",
   "metadata": {
    "id": "vj4TmlLuXV54"
   },
   "source": [
    "# Libraries and Data"
   ]
  },
  {
   "cell_type": "code",
   "execution_count": 1,
   "metadata": {
    "executionInfo": {
     "elapsed": 402,
     "status": "ok",
     "timestamp": 1724949352234,
     "user": {
      "displayName": "Gladys Mawarni",
      "userId": "03879441175200282144"
     },
     "user_tz": -60
    },
    "id": "TrA2UFP-XkKy"
   },
   "outputs": [],
   "source": [
    "# Sample documents about sailing in Croatia\n",
    "documents = ['Sailing in Croatia often includes visiting UNESCO World Heritage sites.',\n",
    " 'The Makarska Riviera is known for its stunning coastline and sailing opportunities.',\n",
    " 'Sailing in Croatia offers stunning views of the Adriatic Sea.',\n",
    " \"The city of Sibenik is home to the impressive St. James's Cathedral, a UNESCO World Heritage site.\",\n",
    " 'The island of Brač is known for its beautiful beaches and great sailing conditions.',\n",
    " 'Sailing to the island of Rab, known for its medieval old town, is a great experience.',\n",
    " 'The Pakleni Islands near Hvar are a popular spot for sailing yachts.',\n",
    " 'The island of Cres is one of the largest in Croatia and a great destination for sailing.',\n",
    " 'The island of Cres is one of the largest in Croatia and has a diverse wildlife.',\n",
    " 'The city of Zagreb is the capital of Croatia and offers a mix of modern and historic attractions.',\n",
    " 'Sailors can experience the traditional Dalmatian way of life in many coastal villages.',\n",
    " 'The city of Knin is known for its historic fortress and beautiful scenery.',\n",
    " 'The island of Krk is the largest island in the Adriatic Sea.',\n",
    " 'Croatia has a rich history dating back to the Roman Empire.',\n",
    " 'The island of Hvar is a popular destination for celebrities and high-end travelers.',\n",
    " 'The city of Varazdin is known for its baroque buildings and vibrant cultural scene.',\n",
    " 'Sailors can enjoy fresh seafood at many coastal restaurants in Croatia.',\n",
    " 'The coastal town of Senj is known for its carnival and Nehaj Fortress.',\n",
    " 'The Dalmatian Coast is a famous region for sailing in Croatia.',\n",
    " \"The Diocletian's Palace in Split is one of the most famous Roman ruins in Croatia.\",\n",
    " 'The island of Dugi Otok is known for its dramatic cliffs and beautiful sailing waters.',\n",
    " 'The island of Rab is famous for its medieval old town and stunning beaches.',\n",
    " 'The island of Mljet is home to a national park and is ideal for nature lovers.',\n",
    " 'Sailors in Croatia can visit ancient Roman ruins in Split.',\n",
    " 'The city of Kotor, just across the border in Montenegro, is a popular extension for Croatian sailing trips.',\n",
    " 'The island of Korcula is believed to be the birthplace of Marco Polo.',\n",
    " 'The town of Motovun in Istria is famous for its film festival.',\n",
    " 'The city of Nin is known for its ancient salt pans and historic church.',\n",
    " 'The city of Vukovar is known for its role in the Croatian War of Independence.',\n",
    " 'Sailing to the island of Lošinj, known for its health tourism, is a relaxing experience.',\n",
    " 'The island of Hvar is known for its vibrant nightlife and sailing opportunities.',\n",
    " 'The island of Korčula is believed to be the birthplace of Marco Polo and is a popular sailing destination.',\n",
    " 'Sailing in Croatia often involves stopping at picturesque fishing villages.',\n",
    " 'The city of Opatija is known for its grand villas and seaside promenade.',\n",
    " 'The city of Porec is known for the Euphrasian Basilica, a UNESCO World Heritage site.',\n",
    " 'The island of Brac is home to the famous Zlatni Rat beach, known for its changing shape.',\n",
    " 'Sailing around the island of Mljet offers a peaceful and scenic experience.',\n",
    " 'The Blue Cave on Biševo Island is a must-see for sailors.',\n",
    " 'The island of Pag is famous for its cheese and nightlife, and is a fun stop for sailors.',\n",
    " \"The island of Lastovo is one of Croatia's most remote and tranquil destinations.\",\n",
    " 'Sailors can enjoy snorkeling in the clear waters of the Adriatic Sea.',\n",
    " 'The city of Rovinj is a charming starting point for a sailing trip in Croatia.',\n",
    " \"Croatia's national parks, like Krka and Plitvice, are ideal for hiking and nature lovers.\",\n",
    " 'The city of Zadar is famous for its sunsets, which sailors can enjoy from the sea.',\n",
    " 'Croatia has over a thousand islands, each with its unique charm.',\n",
    " \"Croatia's Adriatic coast is dotted with charming fishing villages.\",\n",
    " 'Sailing to the island of Šolta offers a quiet escape from the more touristy areas.',\n",
    " 'Sailors in Croatia can explore over 1,200 islands.',\n",
    " 'Sailing in Croatia provides opportunities to visit ancient fortresses and castles along the coast.',\n",
    " 'Croatia is famous for its beautiful coastline and crystal-clear waters.',\n",
    " 'The island of Krk is accessible by bridge and is a popular starting point for sailing trips.',\n",
    " 'Sailing in Croatia is best enjoyed during the summer months.',\n",
    " 'The island of Pag is famous for its cheese, which is considered a delicacy.',\n",
    " 'The medieval town of Rovinj is one of the most picturesque places in Croatia.',\n",
    " 'The island of Losinj is famous for its health tourism and clean air.',\n",
    " 'The city of Dubrovnik, with its famous city walls, is a top destination for sailors.',\n",
    " 'Croatia has beautiful islands perfect for sailing.',\n",
    " 'Sailing in Croatia allows you to explore hidden coves and bays.',\n",
    " 'The city of Rijeka is an important cultural and economic center in Croatia.',\n",
    " 'The island of Mljet has a national park that is perfect for exploring by sailboat.',\n",
    " 'The Istrian Peninsula is famous for its truffles and gourmet food.',\n",
    " 'The town of Cavtat is a quieter alternative to nearby Dubrovnik.',\n",
    " 'The Peljesac Peninsula is known for its vineyards and wine production.',\n",
    " 'The Dubrovnik Summer Festival is a major cultural event featuring theater, music, and dance performances.',\n",
    " 'The city of Zadar is famous for its unique Sea Organ, an architectural sound art object.',\n",
    " 'The beaches in Croatia are among the best in Europe, with many receiving Blue Flag status.',\n",
    " 'Sailing around the island of Murter gives access to the Kornati Islands National Park.',\n",
    " 'The city of Trogir, with its historic architecture, is a great place to dock.',\n",
    " 'Sailing from Split to Dubrovnik offers breathtaking coastal scenery.',\n",
    " 'The Plitvice Lakes National Park is a UNESCO World Heritage site known for its stunning waterfalls and lakes.',\n",
    " 'The city of Hvar is one of the sunniest places in Europe and a popular sailing hub.',\n",
    " \"The city of Dubrovnik is often called the 'Pearl of the Adriatic'.\",\n",
    " 'The city of Osijek is located in the eastern part of Croatia and is known for its Baroque style.',\n",
    " 'The city of Pula, with its Roman amphitheater, is a unique sailing destination.',\n",
    " 'The town of Trogir is a UNESCO World Heritage site known for its medieval architecture.',\n",
    " 'Sailors in Croatia can enjoy local wines at many coastal vineyards.',\n",
    " 'Croatia has a Mediterranean climate, making it a great destination year-round.',\n",
    " 'Croatia has a diverse cultural heritage, with influences from Italy, Hungary, and Austria.',\n",
    " 'The city of Rijeka is an important cultural and historical sailing destination.',\n",
    " 'The best sailing routes in Croatia include Dubrovnik and Split.',\n",
    " 'The Brijuni Islands are a national park and a former presidential retreat.',\n",
    " 'Sailing to the Elaphiti Islands offers a mix of natural beauty and cultural sites.',\n",
    " 'Croatia is known for its delicious seafood cuisine.',\n",
    " 'The ancient city of Pula is known for its well-preserved Roman amphitheater.',\n",
    " 'The city of Opatija is a historical seaside resort that welcomes sailors.',\n",
    " 'The waters around Croatia are known for being calm and clear, ideal for sailing.',\n",
    " 'The Kornati Islands National Park is a popular sailing destination in Croatia.',\n",
    " \"Sailing around the Brijuni Islands offers a glimpse of Croatia's natural beauty and wildlife.\",\n",
    " 'The island of Vis was a military base and was closed to tourism until the 1990s.',\n",
    " 'The city of Split is a major port and gateway to the Dalmatian islands.',\n",
    " 'Sailing to the island of Vis provides access to the famous Blue Cave.',\n",
    " \"The city of Buzet in Istria is known as the 'City of Truffles'.\",\n",
    " 'The city of Karlovac is known for its parks and the rivers that flow through it.',\n",
    " 'Sailing to the island of Vis allows you to experience a more remote part of Croatia.',\n",
    " 'The city of Šibenik is a UNESCO World Heritage site and a great stop for sailors.',\n",
    " \"The town of Samobor is famous for its traditional cream cake called 'kremsnita'.\",\n",
    " 'Sailing around the island of Lastovo provides a more secluded experience.',\n",
    " \"Croatia's wine regions produce some excellent wines, especially in Istria and Dalmatia.\",\n",
    " 'Many sailors start their Croatian adventure from the city of Zadar.',\n",
    " 'The coastal town of Makarska is known for its beautiful beaches and lively nightlife.']"
   ]
  },
  {
   "cell_type": "code",
   "execution_count": 2,
   "metadata": {
    "executionInfo": {
     "elapsed": 4103,
     "status": "ok",
     "timestamp": 1724949356776,
     "user": {
      "displayName": "Gladys Mawarni",
      "userId": "03879441175200282144"
     },
     "user_tz": -60
    },
    "id": "MP2EnoB9PK58"
   },
   "outputs": [],
   "source": [
    "# Import Libraries\n",
    "import nltk\n",
    "from sklearn.feature_extraction.text import TfidfVectorizer\n",
    "import numpy as np"
   ]
  },
  {
   "cell_type": "code",
   "execution_count": 3,
   "metadata": {
    "colab": {
     "base_uri": "https://localhost:8080/"
    },
    "executionInfo": {
     "elapsed": 1645,
     "status": "ok",
     "timestamp": 1724949358415,
     "user": {
      "displayName": "Gladys Mawarni",
      "userId": "03879441175200282144"
     },
     "user_tz": -60
    },
    "id": "9Ao5oXTMOe7u",
    "outputId": "0ebc786a-4938-4252-974a-8f25eaef3afa"
   },
   "outputs": [
    {
     "name": "stderr",
     "output_type": "stream",
     "text": [
      "[nltk_data] Downloading package punkt to /root/nltk_data...\n",
      "[nltk_data]   Unzipping tokenizers/punkt.zip.\n",
      "[nltk_data] Downloading package stopwords to /root/nltk_data...\n",
      "[nltk_data]   Unzipping corpora/stopwords.zip.\n"
     ]
    },
    {
     "data": {
      "text/plain": [
       "True"
      ]
     },
     "execution_count": 3,
     "metadata": {},
     "output_type": "execute_result"
    }
   ],
   "source": [
    "# Download the 'punkt' tokenizer model from nltk\n",
    "nltk.download(\"punkt\")\n",
    "# Download the 'stopwords' corpus from nltk\n",
    "nltk.download(\"stopwords\")"
   ]
  },
  {
   "cell_type": "markdown",
   "metadata": {
    "id": "BohPY5irPTdH"
   },
   "source": [
    "# Tokenization"
   ]
  },
  {
   "cell_type": "code",
   "execution_count": 4,
   "metadata": {
    "executionInfo": {
     "elapsed": 20,
     "status": "ok",
     "timestamp": 1724949358415,
     "user": {
      "displayName": "Gladys Mawarni",
      "userId": "03879441175200282144"
     },
     "user_tz": -60
    },
    "id": "QUrPkBrIPV1Q"
   },
   "outputs": [],
   "source": [
    "# Sample text\n",
    "text =  'The coastal town of Makarska is known for its beautiful beaches and lively nightlife. Many sailors start their Croatian adventure from the city of Zadar.'"
   ]
  },
  {
   "cell_type": "code",
   "execution_count": 5,
   "metadata": {
    "colab": {
     "base_uri": "https://localhost:8080/"
    },
    "executionInfo": {
     "elapsed": 20,
     "status": "ok",
     "timestamp": 1724949358416,
     "user": {
      "displayName": "Gladys Mawarni",
      "userId": "03879441175200282144"
     },
     "user_tz": -60
    },
    "id": "pKTGbsB1Phus",
    "outputId": "b98b949c-9d92-4348-8ebc-a019662858c1"
   },
   "outputs": [
    {
     "name": "stdout",
     "output_type": "stream",
     "text": [
      "The tokenized sentences are: ['The coastal town of Makarska is known for its beautiful beaches and lively nightlife.', 'Many sailors start their Croatian adventure from the city of Zadar.']\n"
     ]
    }
   ],
   "source": [
    "# Tokenize the text into sentences\n",
    "# Splits the input text into a list of sentences\n",
    "sentences = nltk.sent_tokenize(text)\n",
    "print(f\"The tokenized sentences are: {sentences}\")"
   ]
  },
  {
   "cell_type": "code",
   "execution_count": 6,
   "metadata": {
    "colab": {
     "base_uri": "https://localhost:8080/"
    },
    "executionInfo": {
     "elapsed": 15,
     "status": "ok",
     "timestamp": 1724949358416,
     "user": {
      "displayName": "Gladys Mawarni",
      "userId": "03879441175200282144"
     },
     "user_tz": -60
    },
    "id": "W5Pu_cRMP8Z0",
    "outputId": "5f01f58d-9d38-4a34-b5c8-acf76222a362"
   },
   "outputs": [
    {
     "name": "stdout",
     "output_type": "stream",
     "text": [
      "The tokenized words are: ['The', 'coastal', 'town', 'of', 'Makarska', 'is', 'known', 'for', 'its', 'beautiful', 'beaches', 'and', 'lively', 'nightlife', '.', 'Many', 'sailors', 'start', 'their', 'Croatian', 'adventure', 'from', 'the', 'city', 'of', 'Zadar', '.']\n"
     ]
    }
   ],
   "source": [
    "# Tokenize the text into words\n",
    "# Splits the input text into a list of words and punctuation marks\n",
    "words = nltk.word_tokenize(text)\n",
    "print(f\"The tokenized words are: {words}\")\n"
   ]
  },
  {
   "cell_type": "markdown",
   "metadata": {
    "id": "lKPVnDTUTTJo"
   },
   "source": [
    "# Data Processing"
   ]
  },
  {
   "cell_type": "code",
   "execution_count": 7,
   "metadata": {
    "colab": {
     "base_uri": "https://localhost:8080/"
    },
    "executionInfo": {
     "elapsed": 11,
     "status": "ok",
     "timestamp": 1724949358416,
     "user": {
      "displayName": "Gladys Mawarni",
      "userId": "03879441175200282144"
     },
     "user_tz": -60
    },
    "id": "TO4eKjJk3dU7",
    "outputId": "4f2e0119-6a47-4638-a2c8-9959aa9322c4"
   },
   "outputs": [
    {
     "name": "stdout",
     "output_type": "stream",
     "text": [
      "The stop words are: ['i', 'me', 'my', 'myself', 'we', 'our', 'ours', 'ourselves', 'you', \"you're\", \"you've\", \"you'll\", \"you'd\", 'your', 'yours', 'yourself', 'yourselves', 'he', 'him', 'his', 'himself', 'she', \"she's\", 'her', 'hers', 'herself', 'it', \"it's\", 'its', 'itself', 'they', 'them', 'their', 'theirs', 'themselves', 'what', 'which', 'who', 'whom', 'this', 'that', \"that'll\", 'these', 'those', 'am', 'is', 'are', 'was', 'were', 'be', 'been', 'being', 'have', 'has', 'had', 'having', 'do', 'does', 'did', 'doing', 'a', 'an', 'the', 'and', 'but', 'if', 'or', 'because', 'as', 'until', 'while', 'of', 'at', 'by', 'for', 'with', 'about', 'against', 'between', 'into', 'through', 'during', 'before', 'after', 'above', 'below', 'to', 'from', 'up', 'down', 'in', 'out', 'on', 'off', 'over', 'under', 'again', 'further', 'then', 'once', 'here', 'there', 'when', 'where', 'why', 'how', 'all', 'any', 'both', 'each', 'few', 'more', 'most', 'other', 'some', 'such', 'no', 'nor', 'not', 'only', 'own', 'same', 'so', 'than', 'too', 'very', 's', 't', 'can', 'will', 'just', 'don', \"don't\", 'should', \"should've\", 'now', 'd', 'll', 'm', 'o', 're', 've', 'y', 'ain', 'aren', \"aren't\", 'couldn', \"couldn't\", 'didn', \"didn't\", 'doesn', \"doesn't\", 'hadn', \"hadn't\", 'hasn', \"hasn't\", 'haven', \"haven't\", 'isn', \"isn't\", 'ma', 'mightn', \"mightn't\", 'mustn', \"mustn't\", 'needn', \"needn't\", 'shan', \"shan't\", 'shouldn', \"shouldn't\", 'wasn', \"wasn't\", 'weren', \"weren't\", 'won', \"won't\", 'wouldn', \"wouldn't\"]\n"
     ]
    }
   ],
   "source": [
    "# Preview the stop words\n",
    "print(f\"The stop words are: {nltk.corpus.stopwords.words('english')}\")"
   ]
  },
  {
   "cell_type": "code",
   "execution_count": 8,
   "metadata": {
    "colab": {
     "base_uri": "https://localhost:8080/"
    },
    "executionInfo": {
     "elapsed": 9,
     "status": "ok",
     "timestamp": 1724949358416,
     "user": {
      "displayName": "Gladys Mawarni",
      "userId": "03879441175200282144"
     },
     "user_tz": -60
    },
    "id": "xfPHi5ycHXyt",
    "outputId": "4913dd98-2fc7-425d-dc80-705b59226bdc"
   },
   "outputs": [
    {
     "data": {
      "text/plain": [
       "True"
      ]
     },
     "execution_count": 8,
     "metadata": {},
     "output_type": "execute_result"
    }
   ],
   "source": [
    "# Find an element in a list\n",
    "\"not\" in nltk.corpus.stopwords.words(\"english\")"
   ]
  },
  {
   "cell_type": "code",
   "execution_count": 9,
   "metadata": {
    "executionInfo": {
     "elapsed": 358,
     "status": "ok",
     "timestamp": 1724949358768,
     "user": {
      "displayName": "Gladys Mawarni",
      "userId": "03879441175200282144"
     },
     "user_tz": -60
    },
    "id": "9TLhBzGc2mJE"
   },
   "outputs": [],
   "source": [
    "# Process the text: tokenization, only alphanumeric, lower case, no stopwords\n",
    "def process_text(text):\n",
    "    # Convert text to lowercase\n",
    "    processed_text = text.lower()\n",
    "\n",
    "    # Tokenize the text into words\n",
    "    processed_text = nltk.word_tokenize(processed_text)\n",
    "\n",
    "    # Remove non-alphanumeric tokens\n",
    "    processed_text = [word for word in processed_text if word.isalnum()]\n",
    "\n",
    "    # Remove stopwords from the tokenized text\n",
    "    processed_text = [word for word in processed_text if word not in nltk.corpus.stopwords.words(\"english\")]\n",
    "\n",
    "    return processed_text"
   ]
  },
  {
   "cell_type": "code",
   "execution_count": 10,
   "metadata": {
    "colab": {
     "base_uri": "https://localhost:8080/"
    },
    "collapsed": true,
    "executionInfo": {
     "elapsed": 1026,
     "status": "ok",
     "timestamp": 1724949359791,
     "user": {
      "displayName": "Gladys Mawarni",
      "userId": "03879441175200282144"
     },
     "user_tz": -60
    },
    "id": "5UjLN_cW32pa",
    "outputId": "a4b97ed7-2b84-4403-ce89-2d9eba6c7bf3"
   },
   "outputs": [
    {
     "data": {
      "text/plain": [
       "['sailing croatia often includes visiting unesco world heritage sites',\n",
       " 'makarska riviera known stunning coastline sailing opportunities',\n",
       " 'sailing croatia offers stunning views adriatic sea',\n",
       " 'city sibenik home impressive james cathedral unesco world heritage site',\n",
       " 'island brač known beautiful beaches great sailing conditions',\n",
       " 'sailing island rab known medieval old town great experience',\n",
       " 'pakleni islands near hvar popular spot sailing yachts',\n",
       " 'island cres one largest croatia great destination sailing',\n",
       " 'island cres one largest croatia diverse wildlife',\n",
       " 'city zagreb capital croatia offers mix modern historic attractions',\n",
       " 'sailors experience traditional dalmatian way life many coastal villages',\n",
       " 'city knin known historic fortress beautiful scenery',\n",
       " 'island krk largest island adriatic sea',\n",
       " 'croatia rich history dating back roman empire',\n",
       " 'island hvar popular destination celebrities travelers',\n",
       " 'city varazdin known baroque buildings vibrant cultural scene',\n",
       " 'sailors enjoy fresh seafood many coastal restaurants croatia',\n",
       " 'coastal town senj known carnival nehaj fortress',\n",
       " 'dalmatian coast famous region sailing croatia',\n",
       " 'diocletian palace split one famous roman ruins croatia',\n",
       " 'island dugi otok known dramatic cliffs beautiful sailing waters',\n",
       " 'island rab famous medieval old town stunning beaches',\n",
       " 'island mljet home national park ideal nature lovers',\n",
       " 'sailors croatia visit ancient roman ruins split',\n",
       " 'city kotor across border montenegro popular extension croatian sailing trips',\n",
       " 'island korcula believed birthplace marco polo',\n",
       " 'town motovun istria famous film festival',\n",
       " 'city nin known ancient salt pans historic church',\n",
       " 'city vukovar known role croatian war independence',\n",
       " 'sailing island lošinj known health tourism relaxing experience',\n",
       " 'island hvar known vibrant nightlife sailing opportunities',\n",
       " 'island korčula believed birthplace marco polo popular sailing destination',\n",
       " 'sailing croatia often involves stopping picturesque fishing villages',\n",
       " 'city opatija known grand villas seaside promenade',\n",
       " 'city porec known euphrasian basilica unesco world heritage site',\n",
       " 'island brac home famous zlatni rat beach known changing shape',\n",
       " 'sailing around island mljet offers peaceful scenic experience',\n",
       " 'blue cave biševo island sailors',\n",
       " 'island pag famous cheese nightlife fun stop sailors',\n",
       " 'island lastovo one croatia remote tranquil destinations',\n",
       " 'sailors enjoy snorkeling clear waters adriatic sea',\n",
       " 'city rovinj charming starting point sailing trip croatia',\n",
       " 'croatia national parks like krka plitvice ideal hiking nature lovers',\n",
       " 'city zadar famous sunsets sailors enjoy sea',\n",
       " 'croatia thousand islands unique charm',\n",
       " 'croatia adriatic coast dotted charming fishing villages',\n",
       " 'sailing island šolta offers quiet escape touristy areas',\n",
       " 'sailors croatia explore islands',\n",
       " 'sailing croatia provides opportunities visit ancient fortresses castles along coast',\n",
       " 'croatia famous beautiful coastline waters',\n",
       " 'island krk accessible bridge popular starting point sailing trips',\n",
       " 'sailing croatia best enjoyed summer months',\n",
       " 'island pag famous cheese considered delicacy',\n",
       " 'medieval town rovinj one picturesque places croatia',\n",
       " 'island losinj famous health tourism clean air',\n",
       " 'city dubrovnik famous city walls top destination sailors',\n",
       " 'croatia beautiful islands perfect sailing',\n",
       " 'sailing croatia allows explore hidden coves bays',\n",
       " 'city rijeka important cultural economic center croatia',\n",
       " 'island mljet national park perfect exploring sailboat',\n",
       " 'istrian peninsula famous truffles gourmet food',\n",
       " 'town cavtat quieter alternative nearby dubrovnik',\n",
       " 'peljesac peninsula known vineyards wine production',\n",
       " 'dubrovnik summer festival major cultural event featuring theater music dance performances',\n",
       " 'city zadar famous unique sea organ architectural sound art object',\n",
       " 'beaches croatia among best europe many receiving blue flag status',\n",
       " 'sailing around island murter gives access kornati islands national park',\n",
       " 'city trogir historic architecture great place dock',\n",
       " 'sailing split dubrovnik offers breathtaking coastal scenery',\n",
       " 'plitvice lakes national park unesco world heritage site known stunning waterfalls lakes',\n",
       " 'city hvar one sunniest places europe popular sailing hub',\n",
       " 'city dubrovnik often called adriatic',\n",
       " 'city osijek located eastern part croatia known baroque style',\n",
       " 'city pula roman amphitheater unique sailing destination',\n",
       " 'town trogir unesco world heritage site known medieval architecture',\n",
       " 'sailors croatia enjoy local wines many coastal vineyards',\n",
       " 'croatia mediterranean climate making great destination',\n",
       " 'croatia diverse cultural heritage influences italy hungary austria',\n",
       " 'city rijeka important cultural historical sailing destination',\n",
       " 'best sailing routes croatia include dubrovnik split',\n",
       " 'brijuni islands national park former presidential retreat',\n",
       " 'sailing elaphiti islands offers mix natural beauty cultural sites',\n",
       " 'croatia known delicious seafood cuisine',\n",
       " 'ancient city pula known roman amphitheater',\n",
       " 'city opatija historical seaside resort welcomes sailors',\n",
       " 'waters around croatia known calm clear ideal sailing',\n",
       " 'kornati islands national park popular sailing destination croatia',\n",
       " 'sailing around brijuni islands offers glimpse croatia natural beauty wildlife',\n",
       " 'island vis military base closed tourism 1990s',\n",
       " 'city split major port gateway dalmatian islands',\n",
       " 'sailing island vis provides access famous blue cave',\n",
       " 'city buzet istria known truffles',\n",
       " 'city karlovac known parks rivers flow',\n",
       " 'sailing island vis allows experience remote part croatia',\n",
       " 'city šibenik unesco world heritage site great stop sailors',\n",
       " 'town samobor famous traditional cream cake called',\n",
       " 'sailing around island lastovo provides secluded experience',\n",
       " 'croatia wine regions produce excellent wines especially istria dalmatia',\n",
       " 'many sailors start croatian adventure city zadar',\n",
       " 'coastal town makarska known beautiful beaches lively nightlife']"
      ]
     },
     "execution_count": 10,
     "metadata": {},
     "output_type": "execute_result"
    }
   ],
   "source": [
    "# Apply the function to each document, and the tokens are joined back into a string\n",
    "processed_docs = [' '.join(process_text(doc)) for doc in documents]\n",
    "processed_docs"
   ]
  },
  {
   "cell_type": "markdown",
   "metadata": {
    "id": "JF5OB_Sl5V_J"
   },
   "source": [
    "# TF-IDF"
   ]
  },
  {
   "cell_type": "code",
   "execution_count": 11,
   "metadata": {
    "executionInfo": {
     "elapsed": 16,
     "status": "ok",
     "timestamp": 1724949359791,
     "user": {
      "displayName": "Gladys Mawarni",
      "userId": "03879441175200282144"
     },
     "user_tz": -60
    },
    "id": "UEfAgS-l5Yh2"
   },
   "outputs": [],
   "source": [
    "# Create an instance of TfidfVectorizer\n",
    "vectorizer = TfidfVectorizer()\n",
    "# Fit the vectorizer to the preprocessed documents and transform them into a TF-IDF matrix\n",
    "tfidf_matrix = vectorizer.fit_transform(processed_docs)"
   ]
  },
  {
   "cell_type": "code",
   "execution_count": 12,
   "metadata": {
    "executionInfo": {
     "elapsed": 15,
     "status": "ok",
     "timestamp": 1724949359791,
     "user": {
      "displayName": "Gladys Mawarni",
      "userId": "03879441175200282144"
     },
     "user_tz": -60
    },
    "id": "68_1moqG5rHw"
   },
   "outputs": [],
   "source": [
    "# Sample query\n",
    "query = \"Sailing in Croatia is fox.\""
   ]
  },
  {
   "cell_type": "code",
   "execution_count": 13,
   "metadata": {
    "colab": {
     "base_uri": "https://localhost:8080/"
    },
    "collapsed": true,
    "executionInfo": {
     "elapsed": 14,
     "status": "ok",
     "timestamp": 1724949359791,
     "user": {
      "displayName": "Gladys Mawarni",
      "userId": "03879441175200282144"
     },
     "user_tz": -60
    },
    "id": "I39pBbOE5wmo",
    "outputId": "36ff1c34-e91e-490f-82ad-d6bb5756ba70"
   },
   "outputs": [
    {
     "name": "stdout",
     "output_type": "stream",
     "text": [
      "The results are: [[0.24625163]\n",
      " [0.13864202]\n",
      " [0.30056306]\n",
      " [0.        ]\n",
      " [0.14024666]\n",
      " [0.1381081 ]\n",
      " [0.12226441]\n",
      " [0.30067274]\n",
      " [0.13963211]\n",
      " [0.11302752]\n",
      " [0.        ]\n",
      " [0.        ]\n",
      " [0.        ]\n",
      " [0.11905851]\n",
      " [0.        ]\n",
      " [0.        ]\n",
      " [0.12546711]\n",
      " [0.        ]\n",
      " [0.32689033]\n",
      " [0.12658058]\n",
      " [0.12165464]\n",
      " [0.        ]\n",
      " [0.        ]\n",
      " [0.14149573]\n",
      " [0.10742657]\n",
      " [0.        ]\n",
      " [0.        ]\n",
      " [0.        ]\n",
      " [0.        ]\n",
      " [0.13479665]\n",
      " [0.15493951]\n",
      " [0.12259048]\n",
      " [0.24730848]\n",
      " [0.        ]\n",
      " [0.        ]\n",
      " [0.        ]\n",
      " [0.13422752]\n",
      " [0.        ]\n",
      " [0.        ]\n",
      " [0.13312887]\n",
      " [0.        ]\n",
      " [0.26141386]\n",
      " [0.10247136]\n",
      " [0.        ]\n",
      " [0.1566809 ]\n",
      " [0.12879875]\n",
      " [0.12102422]\n",
      " [0.21310791]\n",
      " [0.21829062]\n",
      " [0.17875055]\n",
      " [0.11741373]\n",
      " [0.29298342]\n",
      " [0.        ]\n",
      " [0.13690875]\n",
      " [0.        ]\n",
      " [0.        ]\n",
      " [0.39440178]\n",
      " [0.25877581]\n",
      " [0.13303429]\n",
      " [0.        ]\n",
      " [0.        ]\n",
      " [0.        ]\n",
      " [0.        ]\n",
      " [0.        ]\n",
      " [0.        ]\n",
      " [0.10272353]\n",
      " [0.11834001]\n",
      " [0.        ]\n",
      " [0.14264644]\n",
      " [0.        ]\n",
      " [0.12197261]\n",
      " [0.        ]\n",
      " [0.11391454]\n",
      " [0.14891909]\n",
      " [0.        ]\n",
      " [0.1274194 ]\n",
      " [0.13947623]\n",
      " [0.11597963]\n",
      " [0.14785624]\n",
      " [0.28179676]\n",
      " [0.        ]\n",
      " [0.1195871 ]\n",
      " [0.15875272]\n",
      " [0.        ]\n",
      " [0.        ]\n",
      " [0.27581423]\n",
      " [0.30243399]\n",
      " [0.23190592]\n",
      " [0.        ]\n",
      " [0.        ]\n",
      " [0.13683977]\n",
      " [0.        ]\n",
      " [0.        ]\n",
      " [0.2775277 ]\n",
      " [0.        ]\n",
      " [0.        ]\n",
      " [0.14479524]\n",
      " [0.10381353]\n",
      " [0.        ]\n",
      " [0.        ]]\n"
     ]
    }
   ],
   "source": [
    "# Transform the query into a TF-IDF vector\n",
    "query_vec = vectorizer.transform([query])\n",
    "#print(query_vec.T.toarray())\n",
    "\n",
    "# Compute the similarity between the query vector and each document vector\n",
    "results = np.dot(tfidf_matrix, query_vec.T).toarray()\n",
    "print(f\"The results are: {results}\")"
   ]
  },
  {
   "cell_type": "code",
   "execution_count": 14,
   "metadata": {
    "executionInfo": {
     "elapsed": 6,
     "status": "ok",
     "timestamp": 1724949359791,
     "user": {
      "displayName": "Gladys Mawarni",
      "userId": "03879441175200282144"
     },
     "user_tz": -60
    },
    "id": "VbsxUt_67Ouz"
   },
   "outputs": [],
   "source": [
    "# Function to search the documents based on a query\n",
    "def search(query, vectorizer, tfidf_matrix):\n",
    "  # Transform the query into a TF-IDF vector using the provided vectorizer\n",
    "  query_vec = vectorizer.transform([query])\n",
    "\n",
    "  # Compute the similarity between the query vector and each document vector\n",
    "  # This is done by calculating the dot product of the TF-IDF matrix and the query vector\n",
    "  results = np.dot(tfidf_matrix, query_vec.T).toarray()\n",
    "\n",
    "  # Return the array of similarity scores\n",
    "  return results"
   ]
  },
  {
   "cell_type": "code",
   "execution_count": 15,
   "metadata": {
    "colab": {
     "base_uri": "https://localhost:8080/"
    },
    "collapsed": true,
    "executionInfo": {
     "elapsed": 288,
     "status": "ok",
     "timestamp": 1724949360074,
     "user": {
      "displayName": "Gladys Mawarni",
      "userId": "03879441175200282144"
     },
     "user_tz": -60
    },
    "id": "mtVhuSIc7oZX",
    "outputId": "fb3c551f-cee9-48da-a058-a3bcb87e5557"
   },
   "outputs": [
    {
     "name": "stdout",
     "output_type": "stream",
     "text": [
      "Score 0.39  => Document: Croatia has beautiful islands perfect for sailing.\n",
      "Score 0.33  => Document: The Dalmatian Coast is a famous region for sailing in Croatia.\n",
      "Score 0.30  => Document: The Kornati Islands National Park is a popular sailing destination in Croatia.\n",
      "Score 0.30  => Document: The island of Cres is one of the largest in Croatia and a great destination for sailing.\n",
      "Score 0.30  => Document: Sailing in Croatia offers stunning views of the Adriatic Sea.\n",
      "Score 0.29  => Document: Sailing in Croatia is best enjoyed during the summer months.\n",
      "Score 0.28  => Document: The best sailing routes in Croatia include Dubrovnik and Split.\n",
      "Score 0.28  => Document: Sailing to the island of Vis allows you to experience a more remote part of Croatia.\n",
      "Score 0.28  => Document: The waters around Croatia are known for being calm and clear, ideal for sailing.\n",
      "Score 0.26  => Document: The city of Rovinj is a charming starting point for a sailing trip in Croatia.\n",
      "Score 0.26  => Document: Sailing in Croatia allows you to explore hidden coves and bays.\n",
      "Score 0.25  => Document: Sailing in Croatia often involves stopping at picturesque fishing villages.\n",
      "Score 0.25  => Document: Sailing in Croatia often includes visiting UNESCO World Heritage sites.\n",
      "Score 0.23  => Document: Sailing around the Brijuni Islands offers a glimpse of Croatia's natural beauty and wildlife.\n",
      "Score 0.22  => Document: Sailing in Croatia provides opportunities to visit ancient fortresses and castles along the coast.\n",
      "Score 0.21  => Document: Sailors in Croatia can explore over 1,200 islands.\n",
      "Score 0.18  => Document: Croatia is famous for its beautiful coastline and crystal-clear waters.\n",
      "Score 0.16  => Document: Croatia is known for its delicious seafood cuisine.\n",
      "Score 0.16  => Document: Croatia has over a thousand islands, each with its unique charm.\n",
      "Score 0.15  => Document: The island of Hvar is known for its vibrant nightlife and sailing opportunities.\n",
      "Score 0.15  => Document: The city of Pula, with its Roman amphitheater, is a unique sailing destination.\n",
      "Score 0.15  => Document: The city of Rijeka is an important cultural and historical sailing destination.\n",
      "Score 0.14  => Document: Sailing around the island of Lastovo provides a more secluded experience.\n",
      "Score 0.14  => Document: Sailing from Split to Dubrovnik offers breathtaking coastal scenery.\n",
      "Score 0.14  => Document: Sailors in Croatia can visit ancient Roman ruins in Split.\n",
      "Score 0.14  => Document: The island of Brač is known for its beautiful beaches and great sailing conditions.\n",
      "Score 0.14  => Document: The island of Cres is one of the largest in Croatia and has a diverse wildlife.\n",
      "Score 0.14  => Document: Croatia has a Mediterranean climate, making it a great destination year-round.\n",
      "Score 0.14  => Document: The Makarska Riviera is known for its stunning coastline and sailing opportunities.\n",
      "Score 0.14  => Document: Sailing to the island of Rab, known for its medieval old town, is a great experience.\n",
      "Score 0.14  => Document: The medieval town of Rovinj is one of the most picturesque places in Croatia.\n",
      "Score 0.14  => Document: Sailing to the island of Vis provides access to the famous Blue Cave.\n",
      "Score 0.13  => Document: Sailing to the island of Lošinj, known for its health tourism, is a relaxing experience.\n",
      "Score 0.13  => Document: Sailing around the island of Mljet offers a peaceful and scenic experience.\n",
      "Score 0.13  => Document: The island of Lastovo is one of Croatia's most remote and tranquil destinations.\n",
      "Score 0.13  => Document: The city of Rijeka is an important cultural and economic center in Croatia.\n",
      "Score 0.13  => Document: Croatia's Adriatic coast is dotted with charming fishing villages.\n",
      "Score 0.13  => Document: Sailors in Croatia can enjoy local wines at many coastal vineyards.\n",
      "Score 0.13  => Document: The Diocletian's Palace in Split is one of the most famous Roman ruins in Croatia.\n",
      "Score 0.13  => Document: Sailors can enjoy fresh seafood at many coastal restaurants in Croatia.\n",
      "Score 0.12  => Document: The island of Korčula is believed to be the birthplace of Marco Polo and is a popular sailing destination.\n",
      "Score 0.12  => Document: The Pakleni Islands near Hvar are a popular spot for sailing yachts.\n",
      "Score 0.12  => Document: The city of Hvar is one of the sunniest places in Europe and a popular sailing hub.\n",
      "Score 0.12  => Document: The island of Dugi Otok is known for its dramatic cliffs and beautiful sailing waters.\n",
      "Score 0.12  => Document: Sailing to the island of Šolta offers a quiet escape from the more touristy areas.\n",
      "Score 0.12  => Document: Sailing to the Elaphiti Islands offers a mix of natural beauty and cultural sites.\n",
      "Score 0.12  => Document: Croatia has a rich history dating back to the Roman Empire.\n",
      "Score 0.12  => Document: Sailing around the island of Murter gives access to the Kornati Islands National Park.\n",
      "Score 0.12  => Document: The island of Krk is accessible by bridge and is a popular starting point for sailing trips.\n",
      "Score 0.12  => Document: Croatia has a diverse cultural heritage, with influences from Italy, Hungary, and Austria.\n",
      "Score 0.11  => Document: The city of Osijek is located in the eastern part of Croatia and is known for its Baroque style.\n",
      "Score 0.11  => Document: The city of Zagreb is the capital of Croatia and offers a mix of modern and historic attractions.\n",
      "Score 0.11  => Document: The city of Kotor, just across the border in Montenegro, is a popular extension for Croatian sailing trips.\n",
      "Score 0.10  => Document: Croatia's wine regions produce some excellent wines, especially in Istria and Dalmatia.\n",
      "Score 0.10  => Document: The beaches in Croatia are among the best in Europe, with many receiving Blue Flag status.\n",
      "Score 0.10  => Document: Croatia's national parks, like Krka and Plitvice, are ideal for hiking and nature lovers.\n",
      "Score 0.00  => Document: The city of Sibenik is home to the impressive St. James's Cathedral, a UNESCO World Heritage site.\n",
      "Score 0.00  => Document: Sailors can experience the traditional Dalmatian way of life in many coastal villages.\n",
      "Score 0.00  => Document: The city of Knin is known for its historic fortress and beautiful scenery.\n",
      "Score 0.00  => Document: The island of Krk is the largest island in the Adriatic Sea.\n",
      "Score 0.00  => Document: The island of Hvar is a popular destination for celebrities and high-end travelers.\n",
      "Score 0.00  => Document: The city of Varazdin is known for its baroque buildings and vibrant cultural scene.\n",
      "Score 0.00  => Document: The coastal town of Senj is known for its carnival and Nehaj Fortress.\n",
      "Score 0.00  => Document: The island of Rab is famous for its medieval old town and stunning beaches.\n",
      "Score 0.00  => Document: The island of Mljet is home to a national park and is ideal for nature lovers.\n",
      "Score 0.00  => Document: The island of Korcula is believed to be the birthplace of Marco Polo.\n",
      "Score 0.00  => Document: The town of Motovun in Istria is famous for its film festival.\n",
      "Score 0.00  => Document: The city of Nin is known for its ancient salt pans and historic church.\n",
      "Score 0.00  => Document: The city of Vukovar is known for its role in the Croatian War of Independence.\n",
      "Score 0.00  => Document: The city of Opatija is known for its grand villas and seaside promenade.\n",
      "Score 0.00  => Document: The city of Porec is known for the Euphrasian Basilica, a UNESCO World Heritage site.\n",
      "Score 0.00  => Document: The island of Brac is home to the famous Zlatni Rat beach, known for its changing shape.\n",
      "Score 0.00  => Document: The Blue Cave on Biševo Island is a must-see for sailors.\n",
      "Score 0.00  => Document: The island of Pag is famous for its cheese and nightlife, and is a fun stop for sailors.\n",
      "Score 0.00  => Document: Sailors can enjoy snorkeling in the clear waters of the Adriatic Sea.\n",
      "Score 0.00  => Document: The city of Zadar is famous for its sunsets, which sailors can enjoy from the sea.\n",
      "Score 0.00  => Document: The island of Pag is famous for its cheese, which is considered a delicacy.\n",
      "Score 0.00  => Document: The island of Losinj is famous for its health tourism and clean air.\n",
      "Score 0.00  => Document: The city of Dubrovnik, with its famous city walls, is a top destination for sailors.\n",
      "Score 0.00  => Document: The island of Mljet has a national park that is perfect for exploring by sailboat.\n",
      "Score 0.00  => Document: The Istrian Peninsula is famous for its truffles and gourmet food.\n",
      "Score 0.00  => Document: The town of Cavtat is a quieter alternative to nearby Dubrovnik.\n",
      "Score 0.00  => Document: The Peljesac Peninsula is known for its vineyards and wine production.\n",
      "Score 0.00  => Document: The Dubrovnik Summer Festival is a major cultural event featuring theater, music, and dance performances.\n",
      "Score 0.00  => Document: The city of Zadar is famous for its unique Sea Organ, an architectural sound art object.\n",
      "Score 0.00  => Document: The city of Trogir, with its historic architecture, is a great place to dock.\n",
      "Score 0.00  => Document: The Plitvice Lakes National Park is a UNESCO World Heritage site known for its stunning waterfalls and lakes.\n",
      "Score 0.00  => Document: The city of Dubrovnik is often called the 'Pearl of the Adriatic'.\n",
      "Score 0.00  => Document: The town of Trogir is a UNESCO World Heritage site known for its medieval architecture.\n",
      "Score 0.00  => Document: The Brijuni Islands are a national park and a former presidential retreat.\n",
      "Score 0.00  => Document: The ancient city of Pula is known for its well-preserved Roman amphitheater.\n",
      "Score 0.00  => Document: The city of Opatija is a historical seaside resort that welcomes sailors.\n",
      "Score 0.00  => Document: The island of Vis was a military base and was closed to tourism until the 1990s.\n",
      "Score 0.00  => Document: The city of Split is a major port and gateway to the Dalmatian islands.\n",
      "Score 0.00  => Document: The city of Buzet in Istria is known as the 'City of Truffles'.\n",
      "Score 0.00  => Document: The city of Karlovac is known for its parks and the rivers that flow through it.\n",
      "Score 0.00  => Document: The city of Šibenik is a UNESCO World Heritage site and a great stop for sailors.\n",
      "Score 0.00  => Document: The town of Samobor is famous for its traditional cream cake called 'kremsnita'.\n",
      "Score 0.00  => Document: Many sailors start their Croatian adventure from the city of Zadar.\n",
      "Score 0.00  => Document: The coastal town of Makarska is known for its beautiful beaches and lively nightlife.\n"
     ]
    }
   ],
   "source": [
    "# Sort and Display the function\n",
    "results = search(query, vectorizer, tfidf_matrix)\n",
    "\n",
    "# Sort the results in descending order based on the similarity scores\n",
    "sorted_results = sorted(enumerate(results), key = lambda x: x[1][0], reverse = True)\n",
    "\n",
    "# Iterate over the sorted results to display the outcome\n",
    "for idx, score in sorted_results:\n",
    "  print(f\"Score {score[0]:.2f}  => Document: {documents[idx]}\") # Using idx ( integer) to access the documents"
   ]
  },
  {
   "cell_type": "markdown",
   "metadata": {
    "id": "AlA3uLgzC3ir"
   },
   "source": [
    "# Boolean search"
   ]
  },
  {
   "cell_type": "code",
   "execution_count": 16,
   "metadata": {
    "executionInfo": {
     "elapsed": 7,
     "status": "ok",
     "timestamp": 1724949360075,
     "user": {
      "displayName": "Gladys Mawarni",
      "userId": "03879441175200282144"
     },
     "user_tz": -60
    },
    "id": "mDilnRUlHf49"
   },
   "outputs": [],
   "source": [
    "# Process the text: tokenization, remove non-alphanumeric characters, convert to lower case, and remove stopwords (excluding 'and', 'or', 'not')\n",
    "def process_text_boolean(text):\n",
    "    # Convert text to lowercase\n",
    "    processed_text = text.lower()\n",
    "\n",
    "    # Tokenize the text into words\n",
    "    processed_text = nltk.word_tokenize(processed_text)\n",
    "\n",
    "    # Remove non-alphanumeric tokens\n",
    "    processed_text = [word for word in processed_text if word.isalnum()]\n",
    "\n",
    "    # Define stopwords excluding 'and', 'or', 'not'\n",
    "    stopwords = set(nltk.corpus.stopwords.words(\"english\")) - {'and', 'or', 'not'}\n",
    "\n",
    "    # Remove stopwords from the tokenized text\n",
    "    processed_text = [word for word in processed_text if word not in stopwords]\n",
    "\n",
    "    return processed_text"
   ]
  },
  {
   "cell_type": "code",
   "execution_count": 17,
   "metadata": {
    "executionInfo": {
     "elapsed": 6,
     "status": "ok",
     "timestamp": 1724949360075,
     "user": {
      "displayName": "Gladys Mawarni",
      "userId": "03879441175200282144"
     },
     "user_tz": -60
    },
    "id": "kolB97iuC7bT"
   },
   "outputs": [],
   "source": [
    "# define a function for the boolean search\n",
    "def boolean_search(query, documents):\n",
    "  query_tokens = process_text_boolean(query)\n",
    "\n",
    "  results = []\n",
    "\n",
    "  for doc_id, doc in enumerate(documents):\n",
    "    doc_tokens = set(process_text_boolean(doc))\n",
    "    include_doc = False\n",
    "\n",
    "    for i, token in enumerate(query_tokens):\n",
    "      # Handling the \"and\" operator\n",
    "      if token == \"and\" and i + 1 < len(query_tokens):\n",
    "        # If the AND operator is found, check if the next token is in the document\n",
    "        include_doc = include_doc and (query_tokens[i + 1] in doc_tokens)\n",
    "\n",
    "      elif token == \"or\" and i + 1 < len(query_tokens):\n",
    "        # If the OR operator is found, check if the next token is in the document\n",
    "        include_doc = include_doc or (query_tokens[i + 1] in doc_tokens)\n",
    "\n",
    "      elif token == \"not\" and i + 1 < len(query_tokens):\n",
    "        # If the NOT operator is found, exclude the document if the next token is present\n",
    "        if query_tokens[i + 1] in doc_tokens:\n",
    "          include_doc = False\n",
    "          break # Why is it not exiting the loop?\n",
    "\n",
    "      else:\n",
    "        # For normal tokens check if the document should be included\n",
    "        include_doc = token in doc_tokens or include_doc\n",
    "\n",
    "    if include_doc:\n",
    "      results.append((doc_id, doc))\n",
    "\n",
    "  return results"
   ]
  },
  {
   "cell_type": "code",
   "execution_count": 18,
   "metadata": {
    "colab": {
     "base_uri": "https://localhost:8080/"
    },
    "collapsed": true,
    "executionInfo": {
     "elapsed": 295,
     "status": "ok",
     "timestamp": 1724949360365,
     "user": {
      "displayName": "Gladys Mawarni",
      "userId": "03879441175200282144"
     },
     "user_tz": -60
    },
    "id": "h8OY4OKwGK9g",
    "outputId": "ddd57cbb-c917-402d-c4af-dea7d6f1b8b5"
   },
   "outputs": [
    {
     "name": "stdout",
     "output_type": "stream",
     "text": [
      "Document ID: 0, Document: Sailing in Croatia often includes visiting UNESCO World Heritage sites.\n",
      "Document ID: 1, Document: The Makarska Riviera is known for its stunning coastline and sailing opportunities.\n",
      "Document ID: 2, Document: Sailing in Croatia offers stunning views of the Adriatic Sea.\n",
      "Document ID: 4, Document: The island of Brač is known for its beautiful beaches and great sailing conditions.\n",
      "Document ID: 5, Document: Sailing to the island of Rab, known for its medieval old town, is a great experience.\n",
      "Document ID: 6, Document: The Pakleni Islands near Hvar are a popular spot for sailing yachts.\n",
      "Document ID: 7, Document: The island of Cres is one of the largest in Croatia and a great destination for sailing.\n",
      "Document ID: 14, Document: The island of Hvar is a popular destination for celebrities and high-end travelers.\n",
      "Document ID: 18, Document: The Dalmatian Coast is a famous region for sailing in Croatia.\n",
      "Document ID: 19, Document: The Diocletian's Palace in Split is one of the most famous Roman ruins in Croatia.\n",
      "Document ID: 20, Document: The island of Dugi Otok is known for its dramatic cliffs and beautiful sailing waters.\n",
      "Document ID: 23, Document: Sailors in Croatia can visit ancient Roman ruins in Split.\n",
      "Document ID: 24, Document: The city of Kotor, just across the border in Montenegro, is a popular extension for Croatian sailing trips.\n",
      "Document ID: 29, Document: Sailing to the island of Lošinj, known for its health tourism, is a relaxing experience.\n",
      "Document ID: 30, Document: The island of Hvar is known for its vibrant nightlife and sailing opportunities.\n",
      "Document ID: 31, Document: The island of Korčula is believed to be the birthplace of Marco Polo and is a popular sailing destination.\n",
      "Document ID: 32, Document: Sailing in Croatia often involves stopping at picturesque fishing villages.\n",
      "Document ID: 36, Document: Sailing around the island of Mljet offers a peaceful and scenic experience.\n",
      "Document ID: 41, Document: The city of Rovinj is a charming starting point for a sailing trip in Croatia.\n",
      "Document ID: 46, Document: Sailing to the island of Šolta offers a quiet escape from the more touristy areas.\n",
      "Document ID: 48, Document: Sailing in Croatia provides opportunities to visit ancient fortresses and castles along the coast.\n",
      "Document ID: 50, Document: The island of Krk is accessible by bridge and is a popular starting point for sailing trips.\n",
      "Document ID: 51, Document: Sailing in Croatia is best enjoyed during the summer months.\n",
      "Document ID: 56, Document: Croatia has beautiful islands perfect for sailing.\n",
      "Document ID: 57, Document: Sailing in Croatia allows you to explore hidden coves and bays.\n",
      "Document ID: 66, Document: Sailing around the island of Murter gives access to the Kornati Islands National Park.\n",
      "Document ID: 68, Document: Sailing from Split to Dubrovnik offers breathtaking coastal scenery.\n",
      "Document ID: 70, Document: The city of Hvar is one of the sunniest places in Europe and a popular sailing hub.\n",
      "Document ID: 73, Document: The city of Pula, with its Roman amphitheater, is a unique sailing destination.\n",
      "Document ID: 78, Document: The city of Rijeka is an important cultural and historical sailing destination.\n",
      "Document ID: 79, Document: The best sailing routes in Croatia include Dubrovnik and Split.\n",
      "Document ID: 81, Document: Sailing to the Elaphiti Islands offers a mix of natural beauty and cultural sites.\n",
      "Document ID: 85, Document: The waters around Croatia are known for being calm and clear, ideal for sailing.\n",
      "Document ID: 86, Document: The Kornati Islands National Park is a popular sailing destination in Croatia.\n",
      "Document ID: 87, Document: Sailing around the Brijuni Islands offers a glimpse of Croatia's natural beauty and wildlife.\n",
      "Document ID: 89, Document: The city of Split is a major port and gateway to the Dalmatian islands.\n",
      "Document ID: 90, Document: Sailing to the island of Vis provides access to the famous Blue Cave.\n",
      "Document ID: 93, Document: Sailing to the island of Vis allows you to experience a more remote part of Croatia.\n",
      "Document ID: 96, Document: Sailing around the island of Lastovo provides a more secluded experience.\n"
     ]
    }
   ],
   "source": [
    "# Define a search query\n",
    "query = \"Sailing in Split or Hvar\"\n",
    "\n",
    "# Perform the boolean search\n",
    "boolean_results = boolean_search(query, documents)\n",
    "\n",
    "# print the results\n",
    "for doc_id, doc in boolean_results:\n",
    "  print(\"Document ID: {}, Document: {}\".format(doc_id, doc))"
   ]
  },
  {
   "cell_type": "markdown",
   "metadata": {
    "id": "lEQblx7lKahc"
   },
   "source": [
    "# Probabilistic Retrieval Model"
   ]
  },
  {
   "cell_type": "code",
   "execution_count": 19,
   "metadata": {
    "colab": {
     "base_uri": "https://localhost:8080/"
    },
    "executionInfo": {
     "elapsed": 14054,
     "status": "ok",
     "timestamp": 1724949374415,
     "user": {
      "displayName": "Gladys Mawarni",
      "userId": "03879441175200282144"
     },
     "user_tz": -60
    },
    "id": "U1FqkFRvKdtr",
    "outputId": "2b4e5aea-dfee-47b0-f647-e64948fe3fc8"
   },
   "outputs": [
    {
     "name": "stdout",
     "output_type": "stream",
     "text": [
      "Collecting rank_bm25\n",
      "  Downloading rank_bm25-0.2.2-py3-none-any.whl.metadata (3.2 kB)\n",
      "Requirement already satisfied: numpy in /usr/local/lib/python3.10/dist-packages (from rank_bm25) (1.26.4)\n",
      "Downloading rank_bm25-0.2.2-py3-none-any.whl (8.6 kB)\n",
      "Installing collected packages: rank_bm25\n",
      "Successfully installed rank_bm25-0.2.2\n"
     ]
    }
   ],
   "source": [
    "# Install the rank_bm25 library\n",
    "# BM25 is a probabilistic-based ranking function used in information retrieval to rank documents\n",
    "!pip install rank_bm25"
   ]
  },
  {
   "cell_type": "code",
   "execution_count": 20,
   "metadata": {
    "executionInfo": {
     "elapsed": 11,
     "status": "ok",
     "timestamp": 1724949374415,
     "user": {
      "displayName": "Gladys Mawarni",
      "userId": "03879441175200282144"
     },
     "user_tz": -60
    },
    "id": "0O71Jk3_KhYe"
   },
   "outputs": [],
   "source": [
    "# Import the BM25Okapi class\n",
    "from rank_bm25 import BM25Okapi"
   ]
  },
  {
   "cell_type": "code",
   "execution_count": 21,
   "metadata": {
    "executionInfo": {
     "elapsed": 667,
     "status": "ok",
     "timestamp": 1724949375072,
     "user": {
      "displayName": "Gladys Mawarni",
      "userId": "03879441175200282144"
     },
     "user_tz": -60
    },
    "id": "yFqXM5ZAKmxZ"
   },
   "outputs": [],
   "source": [
    "# Tokenize each cleaned document\n",
    "tokenined_docs = [process_text(doc) for doc in documents]"
   ]
  },
  {
   "cell_type": "code",
   "execution_count": 22,
   "metadata": {
    "executionInfo": {
     "elapsed": 7,
     "status": "ok",
     "timestamp": 1724949375072,
     "user": {
      "displayName": "Gladys Mawarni",
      "userId": "03879441175200282144"
     },
     "user_tz": -60
    },
    "id": "rl6ugyGVK-h0"
   },
   "outputs": [],
   "source": [
    "# Initialize the model\n",
    "model = BM25Okapi(tokenined_docs)"
   ]
  },
  {
   "cell_type": "code",
   "execution_count": 23,
   "metadata": {
    "executionInfo": {
     "elapsed": 7,
     "status": "ok",
     "timestamp": 1724949375073,
     "user": {
      "displayName": "Gladys Mawarni",
      "userId": "03879441175200282144"
     },
     "user_tz": -60
    },
    "id": "2t6lwJtnLAgF"
   },
   "outputs": [],
   "source": [
    "# Function to perform a BM25 search on the documents\n",
    "def bm25_search(query, model):\n",
    "  # Process the query text\n",
    "  query_tokens = process_text(query)\n",
    "  # Get the BM25 scores for the query against the indexed documents\n",
    "  doc_scores = model.get_scores(query_tokens)\n",
    "\n",
    "  # Return the BM25 scores\n",
    "  return doc_scores"
   ]
  },
  {
   "cell_type": "code",
   "execution_count": 24,
   "metadata": {
    "executionInfo": {
     "elapsed": 7,
     "status": "ok",
     "timestamp": 1724949375073,
     "user": {
      "displayName": "Gladys Mawarni",
      "userId": "03879441175200282144"
     },
     "user_tz": -60
    },
    "id": "LIIlABxhLa3O"
   },
   "outputs": [],
   "source": [
    "# Perform BM25 search to get relevance scores for the query\n",
    "query = \"top 10 things to do in Croatia\"\n",
    "bm25_results = bm25_search(query, model)"
   ]
  },
  {
   "cell_type": "code",
   "execution_count": 25,
   "metadata": {
    "colab": {
     "base_uri": "https://localhost:8080/"
    },
    "executionInfo": {
     "elapsed": 6,
     "status": "ok",
     "timestamp": 1724949375073,
     "user": {
      "displayName": "Gladys Mawarni",
      "userId": "03879441175200282144"
     },
     "user_tz": -60
    },
    "id": "BM3g4XgFLmyz",
    "outputId": "3a9e8c40-b5ec-4000-cbd5-55056a2795ab"
   },
   "outputs": [
    {
     "name": "stdout",
     "output_type": "stream",
     "text": [
      "Score: 4.090 => Document: The city of Dubrovnik, with its famous city walls, is a top destination for sailors.\n",
      "Score: 0.723 => Document: Sailors in Croatia can explore over 1,200 islands.\n",
      "Score: 0.672 => Document: Croatia is famous for its beautiful coastline and crystal-clear waters.\n",
      "Score: 0.672 => Document: Croatia has beautiful islands perfect for sailing.\n",
      "Score: 0.672 => Document: Croatia has over a thousand islands, each with its unique charm.\n",
      "Score: 0.672 => Document: Croatia is known for its delicious seafood cuisine.\n",
      "Score: 0.628 => Document: Sailing in Croatia is best enjoyed during the summer months.\n",
      "Score: 0.628 => Document: Croatia has a Mediterranean climate, making it a great destination year-round.\n",
      "Score: 0.628 => Document: The Dalmatian Coast is a famous region for sailing in Croatia.\n",
      "Score: 0.589 => Document: The city of Rijeka is an important cultural and economic center in Croatia.\n",
      "Score: 0.589 => Document: The medieval town of Rovinj is one of the most picturesque places in Croatia.\n",
      "Score: 0.589 => Document: The best sailing routes in Croatia include Dubrovnik and Split.\n",
      "Score: 0.589 => Document: Croatia's Adriatic coast is dotted with charming fishing villages.\n",
      "Score: 0.589 => Document: The island of Lastovo is one of Croatia's most remote and tranquil destinations.\n",
      "Score: 0.589 => Document: Sailors in Croatia can visit ancient Roman ruins in Split.\n",
      "Score: 0.589 => Document: Croatia has a rich history dating back to the Roman Empire.\n",
      "Score: 0.589 => Document: The island of Cres is one of the largest in Croatia and has a diverse wildlife.\n",
      "Score: 0.589 => Document: Sailing in Croatia offers stunning views of the Adriatic Sea.\n",
      "Score: 0.589 => Document: Sailing in Croatia allows you to explore hidden coves and bays.\n",
      "Score: 0.555 => Document: The waters around Croatia are known for being calm and clear, ideal for sailing.\n",
      "Score: 0.555 => Document: The Kornati Islands National Park is a popular sailing destination in Croatia.\n",
      "Score: 0.555 => Document: The city of Rovinj is a charming starting point for a sailing trip in Croatia.\n",
      "Score: 0.555 => Document: Sailing in Croatia often involves stopping at picturesque fishing villages.\n",
      "Score: 0.555 => Document: The Diocletian's Palace in Split is one of the most famous Roman ruins in Croatia.\n",
      "Score: 0.555 => Document: Sailors can enjoy fresh seafood at many coastal restaurants in Croatia.\n",
      "Score: 0.555 => Document: Croatia has a diverse cultural heritage, with influences from Italy, Hungary, and Austria.\n",
      "Score: 0.555 => Document: Sailing to the island of Vis allows you to experience a more remote part of Croatia.\n",
      "Score: 0.555 => Document: Sailors in Croatia can enjoy local wines at many coastal vineyards.\n",
      "Score: 0.555 => Document: The island of Cres is one of the largest in Croatia and a great destination for sailing.\n",
      "Score: 0.525 => Document: The city of Zagreb is the capital of Croatia and offers a mix of modern and historic attractions.\n",
      "Score: 0.525 => Document: Sailing in Croatia often includes visiting UNESCO World Heritage sites.\n",
      "Score: 0.525 => Document: Croatia's wine regions produce some excellent wines, especially in Istria and Dalmatia.\n",
      "Score: 0.525 => Document: The city of Osijek is located in the eastern part of Croatia and is known for its Baroque style.\n",
      "Score: 0.497 => Document: Sailing around the Brijuni Islands offers a glimpse of Croatia's natural beauty and wildlife.\n",
      "Score: 0.497 => Document: The beaches in Croatia are among the best in Europe, with many receiving Blue Flag status.\n",
      "Score: 0.497 => Document: Croatia's national parks, like Krka and Plitvice, are ideal for hiking and nature lovers.\n",
      "Score: 0.497 => Document: Sailing in Croatia provides opportunities to visit ancient fortresses and castles along the coast.\n",
      "Score: 0.000 => Document: The island of Mljet is home to a national park and is ideal for nature lovers.\n",
      "Score: 0.000 => Document: Sailing to the island of Vis provides access to the famous Blue Cave.\n",
      "Score: 0.000 => Document: The city of Split is a major port and gateway to the Dalmatian islands.\n",
      "Score: 0.000 => Document: The island of Dugi Otok is known for its dramatic cliffs and beautiful sailing waters.\n",
      "Score: 0.000 => Document: The island of Rab is famous for its medieval old town and stunning beaches.\n",
      "Score: 0.000 => Document: The city of Kotor, just across the border in Montenegro, is a popular extension for Croatian sailing trips.\n",
      "Score: 0.000 => Document: The island of Vis was a military base and was closed to tourism until the 1990s.\n",
      "Score: 0.000 => Document: The island of Korcula is believed to be the birthplace of Marco Polo.\n",
      "Score: 0.000 => Document: The town of Motovun in Istria is famous for its film festival.\n",
      "Score: 0.000 => Document: The city of Nin is known for its ancient salt pans and historic church.\n",
      "Score: 0.000 => Document: The city of Vukovar is known for its role in the Croatian War of Independence.\n",
      "Score: 0.000 => Document: Sailing to the island of Lošinj, known for its health tourism, is a relaxing experience.\n",
      "Score: 0.000 => Document: The island of Hvar is known for its vibrant nightlife and sailing opportunities.\n",
      "Score: 0.000 => Document: The coastal town of Senj is known for its carnival and Nehaj Fortress.\n",
      "Score: 0.000 => Document: Sailing from Split to Dubrovnik offers breathtaking coastal scenery.\n",
      "Score: 0.000 => Document: The city of Buzet in Istria is known as the 'City of Truffles'.\n",
      "Score: 0.000 => Document: The island of Korčula is believed to be the birthplace of Marco Polo and is a popular sailing destination.\n",
      "Score: 0.000 => Document: The island of Hvar is a popular destination for celebrities and high-end travelers.\n",
      "Score: 0.000 => Document: The city of Karlovac is known for its parks and the rivers that flow through it.\n",
      "Score: 0.000 => Document: The island of Krk is the largest island in the Adriatic Sea.\n",
      "Score: 0.000 => Document: The city of Knin is known for its historic fortress and beautiful scenery.\n",
      "Score: 0.000 => Document: Sailors can experience the traditional Dalmatian way of life in many coastal villages.\n",
      "Score: 0.000 => Document: The city of Šibenik is a UNESCO World Heritage site and a great stop for sailors.\n",
      "Score: 0.000 => Document: The town of Samobor is famous for its traditional cream cake called 'kremsnita'.\n",
      "Score: 0.000 => Document: Sailing around the island of Lastovo provides a more secluded experience.\n",
      "Score: 0.000 => Document: The Pakleni Islands near Hvar are a popular spot for sailing yachts.\n",
      "Score: 0.000 => Document: Sailing to the island of Rab, known for its medieval old town, is a great experience.\n",
      "Score: 0.000 => Document: The island of Brač is known for its beautiful beaches and great sailing conditions.\n",
      "Score: 0.000 => Document: The city of Sibenik is home to the impressive St. James's Cathedral, a UNESCO World Heritage site.\n",
      "Score: 0.000 => Document: The Makarska Riviera is known for its stunning coastline and sailing opportunities.\n",
      "Score: 0.000 => Document: The city of Varazdin is known for its baroque buildings and vibrant cultural scene.\n",
      "Score: 0.000 => Document: The city of Porec is known for the Euphrasian Basilica, a UNESCO World Heritage site.\n",
      "Score: 0.000 => Document: The city of Opatija is known for its grand villas and seaside promenade.\n",
      "Score: 0.000 => Document: The town of Trogir is a UNESCO World Heritage site known for its medieval architecture.\n",
      "Score: 0.000 => Document: Sailing around the island of Murter gives access to the Kornati Islands National Park.\n",
      "Score: 0.000 => Document: The city of Zadar is famous for its unique Sea Organ, an architectural sound art object.\n",
      "Score: 0.000 => Document: The Dubrovnik Summer Festival is a major cultural event featuring theater, music, and dance performances.\n",
      "Score: 0.000 => Document: The Peljesac Peninsula is known for its vineyards and wine production.\n",
      "Score: 0.000 => Document: The town of Cavtat is a quieter alternative to nearby Dubrovnik.\n",
      "Score: 0.000 => Document: The Istrian Peninsula is famous for its truffles and gourmet food.\n",
      "Score: 0.000 => Document: The island of Mljet has a national park that is perfect for exploring by sailboat.\n",
      "Score: 0.000 => Document: The Plitvice Lakes National Park is a UNESCO World Heritage site known for its stunning waterfalls and lakes.\n",
      "Score: 0.000 => Document: The city of Hvar is one of the sunniest places in Europe and a popular sailing hub.\n",
      "Score: 0.000 => Document: The city of Dubrovnik is often called the 'Pearl of the Adriatic'.\n",
      "Score: 0.000 => Document: The island of Losinj is famous for its health tourism and clean air.\n",
      "Score: 0.000 => Document: The city of Pula, with its Roman amphitheater, is a unique sailing destination.\n",
      "Score: 0.000 => Document: The island of Pag is famous for its cheese, which is considered a delicacy.\n",
      "Score: 0.000 => Document: The island of Krk is accessible by bridge and is a popular starting point for sailing trips.\n",
      "Score: 0.000 => Document: The city of Trogir, with its historic architecture, is a great place to dock.\n",
      "Score: 0.000 => Document: Many sailors start their Croatian adventure from the city of Zadar.\n",
      "Score: 0.000 => Document: The city of Rijeka is an important cultural and historical sailing destination.\n",
      "Score: 0.000 => Document: Sailing to the island of Šolta offers a quiet escape from the more touristy areas.\n",
      "Score: 0.000 => Document: The Brijuni Islands are a national park and a former presidential retreat.\n",
      "Score: 0.000 => Document: Sailing to the Elaphiti Islands offers a mix of natural beauty and cultural sites.\n",
      "Score: 0.000 => Document: The city of Zadar is famous for its sunsets, which sailors can enjoy from the sea.\n",
      "Score: 0.000 => Document: The ancient city of Pula is known for its well-preserved Roman amphitheater.\n",
      "Score: 0.000 => Document: Sailors can enjoy snorkeling in the clear waters of the Adriatic Sea.\n",
      "Score: 0.000 => Document: The city of Opatija is a historical seaside resort that welcomes sailors.\n",
      "Score: 0.000 => Document: The island of Pag is famous for its cheese and nightlife, and is a fun stop for sailors.\n",
      "Score: 0.000 => Document: The Blue Cave on Biševo Island is a must-see for sailors.\n",
      "Score: 0.000 => Document: Sailing around the island of Mljet offers a peaceful and scenic experience.\n",
      "Score: 0.000 => Document: The island of Brac is home to the famous Zlatni Rat beach, known for its changing shape.\n",
      "Score: 0.000 => Document: The coastal town of Makarska is known for its beautiful beaches and lively nightlife.\n"
     ]
    }
   ],
   "source": [
    "# Sort the results in descending order of relevance scores\n",
    "sorted_bm25_results = np.argsort(bm25_results)[::-1]\n",
    "\n",
    "# Display the sorted BM25 search results\n",
    "for idx in sorted_bm25_results:\n",
    "  print(\"Score: {:.3f} => Document: {}\".format(bm25_results[idx], documents[idx]))"
   ]
  },
  {
   "cell_type": "code",
   "execution_count": 25,
   "metadata": {
    "executionInfo": {
     "elapsed": 9,
     "status": "ok",
     "timestamp": 1724949375436,
     "user": {
      "displayName": "Gladys Mawarni",
      "userId": "03879441175200282144"
     },
     "user_tz": -60
    },
    "id": "XQKszBTaLycH"
   },
   "outputs": [],
   "source": []
  }
 ],
 "metadata": {
  "colab": {
   "provenance": []
  },
  "kernelspec": {
   "display_name": "Python 3 (ipykernel)",
   "language": "python",
   "name": "python3"
  },
  "language_info": {
   "codemirror_mode": {
    "name": "ipython",
    "version": 3
   },
   "file_extension": ".py",
   "mimetype": "text/x-python",
   "name": "python",
   "nbconvert_exporter": "python",
   "pygments_lexer": "ipython3",
   "version": "3.11.1"
  }
 },
 "nbformat": 4,
 "nbformat_minor": 1
}
